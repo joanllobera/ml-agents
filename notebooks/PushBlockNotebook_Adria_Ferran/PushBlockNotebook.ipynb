{
 "cells": [
  {
   "cell_type": "markdown",
   "metadata": {},
   "source": [
    "# Understanding the PushBlock case\n",
    "___\n",
    "## 1. Introduction\n",
    "In this notebook we analyse one of the examples in the ml-agents repository, the PushBlock example. \n",
    "Also we will analyse its performance with several parameter changes. And in the end we will take a look at a slightly modified version of the PushBlock case and see how it works compared to the original one.\n",
    "\n",
    "The team responsible for this work is formed by:  \n",
    "\n",
    "<img src=\"adria_foto.jpg\" style=\"width: 200px; margin: 10px 0px;  border: 1px solid black;\"> \n",
    "Adrià Ortiz Navarro  \n",
    "correu@gmail.com  \n",
    "<img src=\"ferran_foto.jpg\" style=\"width: 200px; margin: 10px 0px;  border: 1px solid black;\"> \n",
    "Ferran Illa Capellas  \n",
    "ferran.illa26@gmail.com\n",
    "\n",
    "\n"
   ]
  },
  {
   "cell_type": "markdown",
   "metadata": {},
   "source": [
    "## 2. Case analysis\n",
    "a) what are the rewards  \n",
    "b) what are the states  \n",
    "c) how is the training implemented"
   ]
  },
  {
   "cell_type": "markdown",
   "metadata": {},
   "source": [
    "## 3. Performance analysis"
   ]
  },
  {
   "cell_type": "markdown",
   "metadata": {},
   "source": [
    "## 4. New case proposal"
   ]
  }
 ],
 "metadata": {
  "kernelspec": {
   "display_name": "Python 3",
   "language": "python",
   "name": "python3"
  },
  "language_info": {
   "codemirror_mode": {
    "name": "ipython",
    "version": 3
   },
   "file_extension": ".py",
   "mimetype": "text/x-python",
   "name": "python",
   "nbconvert_exporter": "python",
   "pygments_lexer": "ipython3",
   "version": "3.6.8"
  }
 },
 "nbformat": 4,
 "nbformat_minor": 2
}
