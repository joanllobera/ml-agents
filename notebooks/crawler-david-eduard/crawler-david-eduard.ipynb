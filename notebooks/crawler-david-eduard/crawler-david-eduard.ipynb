{
 "cells": [
  {
   "cell_type": "markdown",
   "metadata": {},
   "source": [
    "# Introduction\n",
    "The aim of this notebook is to study the <b>crawler</b> example of the [ml-agents](https://github.com/Unity-Technologies/ml-agents) repository. The crawler is an agent that has a main body and 4 legs composed by 2 limbs each and moves in a plane to reach a target.\n",
    "\n",
    "We will explain how the example works and train one with a modification to compare the results with an unmodified environment using the information that Tensor Board provides us. All of the work done here will be focused on the `CrawlerDynamicLearning` scene from the Unity project.\n",
    "## Team Information\n",
    "### David Pérez Gallego\n",
    "    Student at ENTI-UB: Interactive digital content\n",
    "    Email: davidperezgallego@enti.cat  \n",
    "<img width='150px' align='center' src='img/david.jpg'>\n",
    "\n",
    "### Eduard Arnau Romeu\n",
    "    Student at ENTI-UB: Interactive digital content\n",
    "    Email: eduardarnauromeu@enti.cat    \n",
    "<img width='150px' align='center' src='img/eduard.jpg'>"
   ]
  },
  {
   "cell_type": "markdown",
   "metadata": {},
   "source": [
    "# Case analysis\n",
    "First of all, we will take a look at the crawler as a GameObject and all the parts and scripts involved in it:\n",
    "\n",
    "<img width='900px' align='center' src='img/crawler-gameobject.png'>\n",
    "\n",
    "<center><cite>Crawler GameObject in the ml-agents unity project</cite></center>\n",
    "\n",
    "As we can see, the crawler is formed by <b>4 legs</b> (each one with its relative foreleg) and a <b>body</b>.\n",
    "\n",
    "### Legs\n",
    "Each leg part is attached to it's father limb by a configurable joint which applies an angular constraint in each axis and prevents motion between the leg part and the anchored component.\n",
    "\n",
    "The foreleg is attached to the leg which is attached to the main body.\n",
    "\n",
    "#### <center> Main Body ←(Joint)← Leg ←(Joint)← Foreleg </center>\n",
    "\n",
    "Apart from the movement, each leg also has a script called `GroundContact.cs` which checks the collision with the `ground` layer. This script allows us to use the collision with the ground to either punish the agent, set the agent as done or use the collision flag as an observation for the agent.\n",
    "\n",
    "The <b>forelegs are used as observations</b> when they collide with the ground and <b>the upper part of the legs are used for punishment</b> since we don't want the agent to use the upper part of the legs to move to the target.\n",
    "\n",
    "### Body\n",
    "The body also has the `GroundContact.cs` code attached. To prevent the agent from dragging its body while walking, the script punishes the agent whenever the body collides with the ground.\n",
    "\n",
    "### Controller\n",
    "The agent handles all the important body parts using the script `JointDriveController.cs` to store relevant information for acting and learning for each part of the agent body that is relevant. This script allows the agent to reset the joints, set their target rotation and their strength in order to achieve the desired behaviour.\n",
    "\n"
   ]
  },
  {
   "cell_type": "markdown",
   "metadata": {},
   "source": [
    "# Performance Analysis\n",
    "\n",
    "Anàlisis de Tensorflow"
   ]
  },
  {
   "cell_type": "markdown",
   "metadata": {},
   "source": [
    "# New Case Porposal\n",
    "\n",
    "Decidir si afegim una altra cama, fem que salti o alguna altra cosa i explicar quin procediment fem servir."
   ]
  }
 ],
 "metadata": {
  "kernelspec": {
   "display_name": "Python 3",
   "language": "python",
   "name": "python3"
  },
  "language_info": {
   "codemirror_mode": {
    "name": "ipython",
    "version": 3
   },
   "file_extension": ".py",
   "mimetype": "text/x-python",
   "name": "python",
   "nbconvert_exporter": "python",
   "pygments_lexer": "ipython3",
   "version": "3.6.8"
  }
 },
 "nbformat": 4,
 "nbformat_minor": 2
}
