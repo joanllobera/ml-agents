{
 "cells": [
  {
   "cell_type": "markdown",
   "metadata": {},
   "source": [
    "# Design new environment\n",
    "\n",
    "## Roller Ball"
   ]
  },
  {
   "cell_type": "markdown",
   "metadata": {},
   "source": [
    "### 1. Setting up the environment"
   ]
  },
  {
   "cell_type": "markdown",
   "metadata": {},
   "source": [
    "### 2. Training with editor"
   ]
  },
  {
   "cell_type": "markdown",
   "metadata": {},
   "source": [
    "The scene SingleEnvironment is the one you are going to use in order to test and train your roller agent.\n",
    "It's already settup for you to press play and watch an already trained agent do some work."
   ]
  },
  {
   "cell_type": "markdown",
   "metadata": {},
   "source": [
    "Now, if you want to train it yourself you need to follow the following steps:\n",
    "\n",
    "1. Duplicating and assigning a new brain to the agent\n",
    "Go to the folder \"Brains\" and duplicate the brain named \"RollerBallBrain\" and change its name to MyRollerBrain for example.\n",
    "\n",
    "Look for the \"RollerAgent\" gameObject and drag this new brain to the Brain parameter in the \"RollerAgentSingleInstance\" component.\n",
    "\n",
    "After that you will need to look for the \"Academy\" gameObject, look for the \"RollerAcademy\" component and click Add New in the Broadcast Hub section. Drag that same brain to the new space created in the Broadcast Hub and click the Control checkbox that appears next to it. This checkbox allows for external control of that brain in order to train, once trained you will need to uncheck this checkbox in order to see the result of the training.\n",
    "\n",
    "\n",
    "2. Starting the training\n",
    "You need a Anaconda Command Prompt opened and go, using the \"cd PATH\" command, to the directory where your ml-ag"
   ]
  },
  {
   "cell_type": "markdown",
   "metadata": {},
   "source": [
    "### 3. Training with compiled environment"
   ]
  },
  {
   "cell_type": "markdown",
   "metadata": {},
   "source": [
    "### 4. Training with compiled headless environment"
   ]
  },
  {
   "cell_type": "markdown",
   "metadata": {},
   "source": [
    "### 5. Training with 16 environments"
   ]
  },
  {
   "cell_type": "markdown",
   "metadata": {},
   "source": [
    "### 6. Tensorboard comparisons"
   ]
  }
 ],
 "metadata": {
  "kernelspec": {
   "display_name": "Python 3",
   "language": "python",
   "name": "python3"
  },
  "language_info": {
   "codemirror_mode": {
    "name": "ipython",
    "version": 3
   },
   "file_extension": ".py",
   "mimetype": "text/x-python",
   "name": "python",
   "nbconvert_exporter": "python",
   "pygments_lexer": "ipython3",
   "version": "3.6.5"
  }
 },
 "nbformat": 4,
 "nbformat_minor": 2
}
