{
 "cells": [
  {
   "cell_type": "markdown",
   "metadata": {},
   "source": [
    "# Design new environment\n",
    "\n",
    "## Roller Ball"
   ]
  },
  {
   "cell_type": "markdown",
   "metadata": {},
   "source": [
    "### 1. Setting up the environment"
   ]
  },
  {
   "cell_type": "markdown",
   "metadata": {},
   "source": [
    "### 2. Training with editor"
   ]
  },
  {
   "cell_type": "markdown",
   "metadata": {},
   "source": [
    "### 3. Training with compiled environment\n",
    "\n",
    "You can train a brain using a compiled environment to achieve a faster performance that the unity editor.\n",
    "\n",
    "First of all, start by navigating to the repository folder: Inside that folder go to the following directory: builds\\compiled-environment-rolling-ball\n",
    "\n",
    "Unzip the file Rolling_Ball_Environment_Training.zip in the same folder. Open the anaconda prompt and activate the environment using the command: activate your-env-name\n",
    "\n",
    "After switching, navigate to the folder where the ml-agents repo is located and execute the following line: mlagents-learn config/trainer_config.yaml --run-id=Rolling-Agent-1 --train\n",
    "\n",
    "When the line has been executed and a unity logo appears in the prompt you can execute the environment Rolling_Ball_Environment_Training.exe and you should see a fast-forward simulation. This means that your brain is training in the compiled environment."
   ]
  },
  {
   "cell_type": "markdown",
   "metadata": {},
   "source": [
    "### 4. Training with compiled headless environment"
   ]
  },
  {
   "cell_type": "markdown",
   "metadata": {},
   "source": [
    "### 5. Training with 16 environments"
   ]
  },
  {
   "cell_type": "markdown",
   "metadata": {},
   "source": [
    "### 6. Tensorboard comparisons"
   ]
  }
 ],
 "metadata": {
  "kernelspec": {
   "display_name": "Python 3",
   "language": "python",
   "name": "python3"
  },
  "language_info": {
   "codemirror_mode": {
    "name": "ipython",
    "version": 3
   },
   "file_extension": ".py",
   "mimetype": "text/x-python",
   "name": "python",
   "nbconvert_exporter": "python",
   "pygments_lexer": "ipython3",
   "version": "3.6.8"
  }
 },
 "nbformat": 4,
 "nbformat_minor": 2
}
