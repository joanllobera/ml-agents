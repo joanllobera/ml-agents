{
 "cells": [
  {
   "cell_type": "markdown",
   "metadata": {},
   "source": [
    "# ML-Agents delivey1 Soccer\n",
    "\n",
    "## Introduction\n",
    "\n",
    "This notebook contains the steps we followed on this delivery in order to analyse the training procedure of the brain using the ml-agents methods and the Tensorboard analysis and also the new case implemented to prove that we learned how to use ml-agents. The example we took is the <b>Soccer</b> one.\n",
    "\n",
    "### Group members\n",
    "\n",
    "Name: David López Saludes.\n",
    "\n",
    "Email: davidlopezsaludes@enti.cat.\n",
    "<img src='img/David.png'>\n",
    "\n",
    "Name: Sergi Villalobos Gascón. \n",
    "\n",
    "Email: sergivillalobosgascon@enti.cat.\n",
    "<img src='img/Sergi.jpeg'>\n"
   ]
  },
  {
   "cell_type": "markdown",
   "metadata": {},
   "source": [
    "## Case analysis\n",
    "\n",
    "<b>a)</b> In the case of our example the <span style=\"background-color: #FFFF00\">rewards</span> are 4 float variables being two of them the rewards and the other two the punishments. There are 4 variables because there are two types of brains that we want to train, the <b>Goalie</b> which has the role of defending the scoring area and the <b>Striker</b> who has the role of scoring, thus we have the variables called <kbd>strikerPunish</kbd> which gives the agent a negative reward (-1) and <kbd>strikerReward</kbd> which gives the agent a positive reward (+1) to the <b>Striker</b>. The same goes for the variables of the <b>Goalie</b> which are called <kbd>goaliePunish</kbd> and <kbd>goalieReward</kbd>, both of them work exactly as the <b>Striker</b> ones.\n",
    "\n",
    "<img src='img/RewardsandPunishments.jpg'>\n",
    "\n",
    "This variables are on the <kbd>SoccerAcademy</kbd> cpp.\n",
    "\n",
    "<b>b)</b> On this example the <span style=\"background-color: #FFFF00\">states</span> will be represented as a class named <kbd>PlayerState</kbd> which embodies the characteristics of the player, like the <kbd>playerIndex</kbd> which will be recived from the <kbd>AgentSoccer</kbd> cpp; the <kbd>agentRB</kbd> which is the rigid body of the agent, the <kbd>AgentSoccer</kbd> type called <kbd>agentScript</kbd> that will be used to know the characteristics of the agent like which team it is into or if it is a striker or a goalie, and the variable <kbd>ballPosReward</kbd>.\n",
    "\n",
    "<img src='img/PlayerState.jpg'>\n",
    "\n",
    "This class will be used for the four agents that will be generated on the example and the class will be saved in a list called <kbd>PlayerStates</kbd> which will save all the <kbd>PlayerState</kbd> classes to be used to assign the rewards and punishments so the brain can be trained.\n",
    "\n",
    "<img src='img/PlayerStateList.jpg'>\n",
    "\n",
    "<b>c)</b> "
   ]
  },
  {
   "cell_type": "markdown",
   "metadata": {},
   "source": [
    "## Performance analysis\n",
    "\n",
    "<b>a)</b>\n",
    "\n",
    "<b>b)</b>\n",
    "\n",
    "<b>c)</b>\n"
   ]
  },
  {
   "cell_type": "markdown",
   "metadata": {},
   "source": [
    "## New case proposal\n",
    "\n",
    "To be filled"
   ]
  }
 ],
 "metadata": {
  "kernelspec": {
   "display_name": "Python 3",
   "language": "python",
   "name": "python3"
  },
  "language_info": {
   "codemirror_mode": {
    "name": "ipython",
    "version": 3
   },
   "file_extension": ".py",
   "mimetype": "text/x-python",
   "name": "python",
   "nbconvert_exporter": "python",
   "pygments_lexer": "ipython3",
   "version": "3.6.8"
  }
 },
 "nbformat": 4,
 "nbformat_minor": 2
}
