{
 "cells": [
  {
   "cell_type": "markdown",
   "metadata": {},
   "source": [
    "# ML-Agents delivey1 Soccer\n",
    "\n",
    "## Introduction\n",
    "\n",
    "This notebook contains the steps we followed on this delivery in order to analyse the training procedure of the brain using the ml-agents methods and the Tensorboard analysis and also the new case implemented to prove that we learned how to use ml-agents. The example we took is the <b>Soccer</b> one.\n",
    "\n",
    "### Group members\n",
    "\n",
    "Name: David López Saludes.\n",
    "\n",
    "Email: davidlopezsaludes@enti.cat.\n",
    "<img src='img/David.png'>\n",
    "\n",
    "Name: Sergi Villalobos Gascón. \n",
    "\n",
    "Email: sergivillalobosgascon@enti.cat.\n",
    "<img src='img/Sergi.jpeg'>\n"
   ]
  },
  {
   "cell_type": "markdown",
   "metadata": {},
   "source": [
    "## Case analysis\n",
    "\n",
    "<b>a)</b> In the case of our example the <span style=\"background-color: #FFFF00\">rewards</span> are 4 float variables being two of them the rewards and the other two the punishments. There are 4 variables because there are two types of brains that we want to train, the <b>Goalie</b> which has the role of defending the scoring area and the <b>Striker</b> who has the role of scoring, thus we have the variables called <kbd>strikerPunish</kbd> which gives the agent a negative reward (-1) and <kbd>strikerReward</kbd> which gives the agent a positive reward (+1) to the <b>Striker</b>. The same goes for the variables of the <b>Goalie</b> which are called <kbd>goaliePunish</kbd> and <kbd>goalieReward</kbd>, the first one works like the <b>Striker</b> ones but the second one gives 0 so there is no reward for the goalie.\n",
    "\n",
    "<img src='img/RewardsandPunishments.jpg'>\n",
    "\n",
    "This variables can be changed on the Unity inspector, these are the default values:\n",
    "\n",
    "<img src='img/RewardsandPunishmentsOnInspector.jpg'>\n",
    "\n",
    "This variables are on the <kbd>SoccerAcademy</kbd> cpp.\n",
    "\n",
    "<b>b)</b> On this example the <span style=\"background-color: #FFFF00\">states</span> will be represented as a class named <kbd>PlayerState</kbd> which embodies the characteristics of the player, like the <kbd>playerIndex</kbd> which will be recived from the <kbd>AgentSoccer</kbd> script; the <kbd>agentRB</kbd> which is the rigid body of the agent, the <kbd>AgentSoccer</kbd> type called <kbd>agentScript</kbd> that will be used to know the characteristics of the agent like which team it is into or if it is a striker or a goalie, and the variable <kbd>ballPosReward</kbd>.\n",
    "\n",
    "<img src='img/PlayerState.jpg'>\n",
    "\n",
    "This class will be used for the four agents that will be generated on the example and the class will be saved in a list called <kbd>PlayerStates</kbd> which will save all the <kbd>PlayerState</kbd> classes to be used to assign the rewards and punishments so the brain can be trained.\n",
    "\n",
    "<img src='img/PlayerStateList.jpg'>\n",
    "\n",
    "This elements can be found on the script called <kbd>SoccerFieldArea</kbd>.\n",
    "\n",
    "<b>c)</b> The training is implemented using two diferent kind of brains the brain for the <b>Goalie</b> which we called <kbd>NewGoalieLearning</kbd> and the brain for the <b>Striker</b> which is called <kbd>NewStrikerLearning</kbd>, each of this brains will be attached to the script that corresponds to the class that they should be on. \n",
    "\n",
    "<img src='img/Brains.jpg'>\n",
    "\n",
    "After implementig this brains we will input the necessary parameters to the <b>Academy</b> game object in order to proceed with the training and we attach the brains to this game object script and set them on control mode.\n",
    "\n",
    "<img src='img/AcademyScript.jpg'>\n",
    "\n",
    "We also have to set the parameters on the <kbd>trainer_config.yaml</kbd> to the values we want so the training proceeds as planed, after that the command <kbd>mlagents-learn config/trainer_config.yaml --run-id=X --train</kbd> (if wanted to be trained on build this is the command <kbd>mlagents-learn config/trainer_config.yaml --env=../../projects/Cats/CatsOnBicycles.app --run-id=cob_1 --train</kbd>) must be entered on the <span style=\"background-color: #FFFF00\">anaconda prompt</span> in orther for the training to start. With this done we have to revise the code; the training method is implemented on three different scripts that were mentioned on the <b>a)</b> and <b>b)</b> sections, the scripts are called <kbd>AgentSoccer</kbd>, <kbd>SoccerAcademy</kbd>, <kbd>SoccerBallController</kbd> and <kbd>SoccerFieldArea</kbd>. \n",
    "\n",
    "The script <kbd>AgentSoccer</kbd> keeps the info of the agent, having here the info that refers to the agent's team, the actions that it will take and the roles that will adopt. \n",
    "\n",
    "The script <kbd>SoccerAcademy</kbd> will act as the manager of the training, initializing the important variables like the punishments, the rewards, the brains, the agent steps, etc. \n",
    "\n",
    "<img src='img/VariablesOnAcademy.jpg'>\n",
    "\n",
    "The script <kbd>SoccerFieldArea</kbd> is the most important of all, being the one that embodies the main functions that will make the training possible. The functions that will make that possible are the following: <kbd>GoalTouched</kbd> and <kbd>RewardOrPunishPlayer</kbd>. To use correctly this functions on the script a class is created, which is the same class that we mentioned on the <b>b)</b> section, which is called <kbd>PlayerState</kbd>, this will define the player that will be added to the the list <kbd>playerStates</kbd> which will contain all the agents that will be trained. After having this clear we go to the function "
   ]
  },
  {
   "cell_type": "markdown",
   "metadata": {},
   "source": [
    "## Performance analysis\n",
    "\n",
    "<b>a)</b>\n",
    "\n",
    "<b>b)</b>\n",
    "\n",
    "<b>c)</b>\n"
   ]
  },
  {
   "cell_type": "markdown",
   "metadata": {},
   "source": [
    "## New case proposal\n",
    "\n",
    "To be filled"
   ]
  }
 ],
 "metadata": {
  "kernelspec": {
   "display_name": "Python 3",
   "language": "python",
   "name": "python3"
  },
  "language_info": {
   "codemirror_mode": {
    "name": "ipython",
    "version": 3
   },
   "file_extension": ".py",
   "mimetype": "text/x-python",
   "name": "python",
   "nbconvert_exporter": "python",
   "pygments_lexer": "ipython3",
   "version": "3.6.8"
  }
 },
 "nbformat": 4,
 "nbformat_minor": 2
}
