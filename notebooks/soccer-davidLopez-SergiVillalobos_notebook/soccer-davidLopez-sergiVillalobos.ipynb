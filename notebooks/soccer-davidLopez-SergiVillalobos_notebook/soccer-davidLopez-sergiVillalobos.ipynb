{
 "cells": [
  {
   "cell_type": "markdown",
   "metadata": {},
   "source": [
    "# ML-Agents delivey1 Soccer\n",
    "\n",
    "## Introduction\n",
    "\n",
    "This notebook contains the steps we followed on this delivery in order to analyse the training procedure of the brain using the ml-agents methods and the Tensorboard analysis and also the new case implemented to prove that we learned how to use ml-agents. The example we took is the <b>Soccer</b> one.\n",
    "\n",
    "### Group members\n",
    "\n",
    "Name: David Lopez Saludes.\n",
    "Email: davidlopezsaludes@enti.cat.\n",
    "<img align='center' src='img/David.png'>\n",
    "\n",
    "Name: Sergi Villalobos Gason. \n",
    "Email: sergivillalobosgascon@enti.cat.\n",
    "<img align='center' src='img/Sergi.png'>\n"
   ]
  },
  {
   "cell_type": "markdown",
   "metadata": {},
   "source": [
    "## Case analysis\n",
    "\n",
    "To be filled"
   ]
  },
  {
   "cell_type": "markdown",
   "metadata": {},
   "source": [
    "## Performance analysis\n",
    "\n",
    "To be filled"
   ]
  },
  {
   "cell_type": "markdown",
   "metadata": {},
   "source": [
    "## New case proposal\n",
    "\n",
    "To be filled"
   ]
  }
 ],
 "metadata": {
  "kernelspec": {
   "display_name": "Python 3",
   "language": "python",
   "name": "python3"
  },
  "language_info": {
   "codemirror_mode": {
    "name": "ipython",
    "version": 3
   },
   "file_extension": ".py",
   "mimetype": "text/x-python",
   "name": "python",
   "nbconvert_exporter": "python",
   "pygments_lexer": "ipython3",
   "version": "3.6.8"
  }
 },
 "nbformat": 4,
 "nbformat_minor": 2
}
