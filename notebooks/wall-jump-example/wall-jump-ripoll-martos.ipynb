{
 "cells": [
  {
   "cell_type": "markdown",
   "metadata": {},
   "source": [
    "# Wall Jump ML-Agents Example\n",
    "---\n",
    "## Introduction\n",
    "---\n",
    "This notebook examines the [**WallJump**](https://www.youtube.com/watch?v=NITLug2DIWQ&feature=youtu.be) example of [Unity's ML-Agents](https://github.com/Unity-Technologies/ml-agents) repository. This case is about an agent that must jump through a variable-height wall, sometimes with the help of a box, which must move to jump on it, through the wall and reach the target. \n",
    "\n",
    "Specifically we will explain the operation of the variables and rewards of the `WallJump` scene of Unity. Also will train a new brain adding modifications to the enviroment to later compare the results obtained with the trained brain in an environment without modifications thanks to the [TensorBoard](https://www.tensorflow.org/guide/summaries_and_tensorboard) graphics. "
   ]
  },
  {
   "cell_type": "markdown",
   "metadata": {},
   "source": [
    "## Team Members\n",
    "---\n",
    "### Miquel Ripoll Fornes\n",
    "- __*Location*__: Barcelona\n",
    "- __*Mail*__: miquelripollfornes@enti.cat\n",
    "\n",
    "### Marc Martos Cabré\n",
    "- __*Location*__: Barcelona\n",
    "- __*Mail*__: marcmartoscabre@enti.cat"
   ]
  },
  {
   "cell_type": "markdown",
   "metadata": {},
   "source": [
    "## Case Analysis\n",
    "---\n",
    "TODO\n",
    "\n",
    "### Ray Perception\n",
    "---\n",
    "TODO\n",
    "\n",
    "### Agent\n",
    "---\n",
    "TODO\n",
    "\n",
    "#### *InitializeAgent()*\n",
    "TODO\n",
    "\n",
    "#### *DoCheckGround(bool)*\n",
    "TODO\n",
    "\n",
    "#### *MoveTowards(Vector3, Rigidbody, float, float)*\n",
    "TODO\n",
    "\n",
    "#### *CollectObservations()*\n",
    "TODO\n",
    "\n",
    "#### *MoveAgent(float[])*\n",
    "TODO\n",
    "\n",
    "#### *AgentAction(float[], string)*\n",
    "TODO\n",
    "\n",
    "#### *OnTriggerStay(Collider)*\n",
    "TODO\n",
    "\n",
    "\n"
   ]
  },
  {
   "cell_type": "markdown",
   "metadata": {},
   "source": [
    "## Performance Analysis\n",
    "---\n",
    "TODO - Analisis TensorBoard"
   ]
  },
  {
   "cell_type": "markdown",
   "metadata": {},
   "source": [
    "## New Case Proposal\n",
    "---\n",
    "TODO"
   ]
  },
  {
   "cell_type": "code",
   "execution_count": null,
   "metadata": {},
   "outputs": [],
   "source": []
  }
 ],
 "metadata": {
  "kernelspec": {
   "display_name": "Python 3",
   "language": "python",
   "name": "python3"
  },
  "language_info": {
   "codemirror_mode": {
    "name": "ipython",
    "version": 3
   },
   "file_extension": ".py",
   "mimetype": "text/x-python",
   "name": "python",
   "nbconvert_exporter": "python",
   "pygments_lexer": "ipython3",
   "version": "3.6.8"
  }
 },
 "nbformat": 4,
 "nbformat_minor": 2
}
