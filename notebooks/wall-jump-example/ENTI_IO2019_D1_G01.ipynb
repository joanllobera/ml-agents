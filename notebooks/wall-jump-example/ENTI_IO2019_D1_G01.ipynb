{
 "cells": [
  {
   "cell_type": "markdown",
   "metadata": {},
   "source": [
    "# Wall Jump ML-Agents Example\n",
    "---\n",
    "## Introduction\n",
    "---\n",
    "This notebook examines the [**WallJump**](https://www.youtube.com/watch?v=NITLug2DIWQ&feature=youtu.be) example of [Unity's ML-Agents](https://github.com/Unity-Technologies/ml-agents) repository. This case is about an agent that must jump through a variable-height wall, sometimes with the help of a box, which must move to jump on it, through the wall and reach the target. \n",
    "\n",
    "Specifically we will explain the operation of the variables and rewards of the `WallJump` scene of Unity. Also will train a new brain adding modifications to the enviroment to later compare the results obtained with the trained brain in an environment without modifications thanks to the [TensorBoard](https://www.tensorflow.org/guide/summaries_and_tensorboard) graphics. "
   ]
  },
  {
   "cell_type": "markdown",
   "metadata": {},
   "source": [
    "## Team Members\n",
    "---\n",
    "### Miquel Ripoll Fornes\n",
    "- __*Location*__: Barcelona\n",
    "- __*Mail*__: miquelripollfornes@enti.cat\n",
    "\n",
    "### Marc Martos Cabré\n",
    "- __*Location*__: Barcelona\n",
    "- __*Mail*__: marcmartoscabre@enti.cat"
   ]
  },
  {
   "cell_type": "markdown",
   "metadata": {},
   "source": [
    "## Case Analysis\n",
    "---\n",
    "First of all, we take a look at our example in the [Unity's ML-Agents](https://github.com/Unity-Technologies/ml-agents) repository. We have an agent on scene (blue box) which it's goal is to reach the marked area on the ground. The scene will have three different configurations.\n",
    "\n",
    "Each configuration challenge the actor in different ways, making him thinking different on every iteration. The configurations modify the wall height and this will change the actor behaviour. \n",
    "\n",
    "On the bigWall configuration, if the agent detects a wall, he will instantly try to fins a box to jump over the wall. On the two other cases, he will just move on throught the area and he will jump without any problem over the wall. \n",
    "\n",
    "### Ray Perception\n",
    "---\n",
    "The agent will throw rays in different angles, depending on it's position. This rays will collide against an object of the scene and this will give all the information the actor needs from the world. We have three different objects to collide the ray against: \n",
    "\n",
    "- Wall: The obstacle the actor will face on the area\n",
    "- Goal: The area the actor have to reach\n",
    "- Block: The object which will help the player to get through the wall.\n",
    "### Agent\n",
    "---\n",
    "The agent is a blue cube which have three brains on it. This three brains will act in different situations such as the mentioned before, depending on the height of the wall. We will use the same brain for the \"No wall\" case and the \"Small Wall\" case, because the player does not need to interact with the block in order to overcome the wall, he can just jump over it. \n",
    "\n",
    "The agent can do four different actions on each frame. he can move on the four directions (right, left, back and forward) and he can also jump. \n",
    "\n",
    "#### InitializeAgent()\n",
    "This function initialize the agent with all his configuration and information about the scene. Here we will select which one of the three different scene configurations we will have on the simulation and also initialize the list of detectableObjects the agent can face while executing the RayPerception. \n",
    "\n",
    "#### DoCheckGround(bool)\n",
    "The agent can jump on every step of the simulation, so we need to know when it's on the ground or on the air, for example, the agent can only reach the goal if he is on the ground. With this function, we will check if the agent is grounded or not, and also we will know where it's lying on. He can be on the \"Walkable surface\" of the area (the ground), can be above the block and also above the wall. \n",
    "\n",
    "#### MoveTowards(Vector3, Rigidbody, float, float)\n",
    "Mainly, the agent will be moving arround the area and we want to move it smooth. This function will move the player to a targetedPosition (Vector3) and with a velocity between a range (two floats).\n"
   ]
  },
  {
   "cell_type": "markdown",
   "metadata": {},
   "source": [
    "## Performance Analysis\n",
    "---\n",
    "TODO - Analisis TensorBoard\n",
    "\n",
    "<img align='center' src='img/tensorboard.png'>"
   ]
  },
  {
   "cell_type": "markdown",
   "metadata": {},
   "source": [
    "## New Case Proposal\n",
    "---\n",
    "For our own case we have decided to add an enemy to the scene so that the agent has to dodge it and make it difficult to get to goal.\n",
    "\n",
    "### Enemy\n",
    "We have decided to add an enemy which can not be jump over by the agent and which moves in a straight line on the x-axis. The enemy can be modified the speed and size to regulate the difficulty.\n",
    "<img width='400px' align='center' src='img/enemy.png'>\n",
    "\n",
    "### Observations\n",
    "As we have added a new element in the scene, we had to add more observations to the agent with the help of the RayPerception. For this we have had to mark the enemy with a tag and add it in the agent's script.\n",
    "\n",
    "### Brain\n",
    "As for the brain, with respect to the original, the only modification has been to extend the observation vector to 88 since, as we have commented previously, new observations have been added.\n",
    "<img width='400px' align='center' src='img/brain.png'>"
   ]
  },
  {
   "cell_type": "code",
   "execution_count": null,
   "metadata": {},
   "outputs": [],
   "source": []
  }
 ],
 "metadata": {
  "kernelspec": {
   "display_name": "Python 3",
   "language": "python",
   "name": "python3"
  },
  "language_info": {
   "codemirror_mode": {
    "name": "ipython",
    "version": 3
   },
   "file_extension": ".py",
   "mimetype": "text/x-python",
   "name": "python",
   "nbconvert_exporter": "python",
   "pygments_lexer": "ipython3",
   "version": "3.6.8"
  }
 },
 "nbformat": 4,
 "nbformat_minor": 2
}
